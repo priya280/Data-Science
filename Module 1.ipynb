{
 "cells": [
  {
   "cell_type": "markdown",
   "metadata": {},
   "source": [
    "# AI :\n",
    "branch of cs concerned with building smart & intelligent machines. eg : tesla cars , google assistant .\n",
    "# ML :\n",
    "learn all abt data. eg: recognize if it is cat or dog.\n",
    "# DL :\n",
    "> uses artificial neural networks  to learn from data.\n",
    "> Neural network has 3 main layers :\n",
    "1. Input layer\n",
    "2. Hidden Layer (can have multiple hidden layers based on tasks)\n",
    "3. Output Layer\n",
    "\n",
    "> Feature Extraction : DL determines features on its own whereas for ML we need to manually inform the features.\n",
    "\n",
    "# Types of ML :\n",
    "# 1. Supervised Learning -\n",
    "> has labelled data. Machine knows what it is apple or mango.\n",
    "\n",
    "a. Classification : It is abt predicting a class of discrete values. eg: Male or Female , True or False\n",
    "\n",
    "> Algorithms used :\n",
    "1. Descision Tree\n",
    "2. Random FOrest Classification\n",
    "3. K-nearest Neighbor \n",
    "\n",
    "b. Regression : It is abt predicting a quantity or continuous values. eg : Salary,age,price.\n",
    "\n",
    "> ALgorithms used :\n",
    "1. Logistic Regression\n",
    "2. Polynomial Regression\n",
    "3. Support Vector MAchines\n",
    "\n",
    "# 2. Unsupervised Learning -\n",
    "> has unlabelled data. Grps the clustrer of images based on features.\n",
    "\n",
    "a. Clustering : Grping similar data points.\n",
    "\n",
    "b. Association : Suggesting data.\n",
    "\n",
    "> Algorithms for unsupervised :\n",
    "1. K-Means Clustering\n",
    "2. Hierarchial Clustering\n",
    "3. Principal Component Analysis(PCA) - used for reducing dimension of data.\n",
    "4. Apriori\n",
    "5. Eclat\n",
    "\n",
    "# 3. Reinforcement Learning -\n",
    "> how intelligent agents take actions in an environment to maximize rewards.\n",
    "> aspects of RL :\n",
    "a. Environment\n",
    "b. Agent\n",
    "c. Action\n",
    "d. Reward\n",
    "\n"
   ]
  },
  {
   "cell_type": "code",
   "execution_count": 1,
   "metadata": {},
   "outputs": [
    {
     "name": "stdout",
     "output_type": "stream",
     "text": [
      "ML DL\n",
      "11\n"
     ]
    }
   ],
   "source": [
    "print (\"ML\" + \" DL\")\n",
    "print(8+3)"
   ]
  },
  {
   "cell_type": "markdown",
   "metadata": {},
   "source": [
    "> Basic data types:\n",
    "1. int\n",
    "2. float\n",
    "3. str\n",
    "4. complex\n",
    "5. boolean"
   ]
  },
  {
   "cell_type": "code",
   "execution_count": 2,
   "metadata": {},
   "outputs": [
    {
     "data": {
      "text/plain": [
       "int"
      ]
     },
     "execution_count": 2,
     "metadata": {},
     "output_type": "execute_result"
    }
   ],
   "source": [
    "type(8)"
   ]
  },
  {
   "cell_type": "code",
   "execution_count": 3,
   "metadata": {},
   "outputs": [
    {
     "data": {
      "text/plain": [
       "float"
      ]
     },
     "execution_count": 3,
     "metadata": {},
     "output_type": "execute_result"
    }
   ],
   "source": [
    "type(5.3)"
   ]
  },
  {
   "cell_type": "code",
   "execution_count": 4,
   "metadata": {},
   "outputs": [
    {
     "data": {
      "text/plain": [
       "str"
      ]
     },
     "execution_count": 4,
     "metadata": {},
     "output_type": "execute_result"
    }
   ],
   "source": [
    "type(\"hello\")"
   ]
  },
  {
   "cell_type": "markdown",
   "metadata": {},
   "source": [
    "> constants : values cannot be changes\n",
    "\n",
    "> Variables : whose values can be changed. container in which we store values.Variables should have a continuous name or should be connected with underscores."
   ]
  },
  {
   "cell_type": "code",
   "execution_count": 5,
   "metadata": {},
   "outputs": [
    {
     "name": "stdout",
     "output_type": "stream",
     "text": [
      "Iron Man\n"
     ]
    }
   ],
   "source": [
    "super_hero = \"Iron Man\"\n",
    "print(super_hero)\n",
    "# super_hero is container and Iron man is value of variable"
   ]
  },
  {
   "cell_type": "code",
   "execution_count": 6,
   "metadata": {},
   "outputs": [
    {
     "name": "stdout",
     "output_type": "stream",
     "text": [
      "super_hero\n"
     ]
    }
   ],
   "source": [
    "super_hero = \"Captain AMerica\"\n",
    "print(\"super_hero\")"
   ]
  },
  {
   "cell_type": "code",
   "execution_count": 7,
   "metadata": {},
   "outputs": [
    {
     "name": "stdout",
     "output_type": "stream",
     "text": [
      "Iron Man\n",
      "Captain\n",
      "Waspp\n"
     ]
    }
   ],
   "source": [
    "# values for multiple variables in a single line of codes\n",
    "hero1,hero2,hero3 = \"Iron Man\", \"Captain\",\"Waspp\"\n",
    "print(hero1)\n",
    "print(hero2)\n",
    "print(hero3)"
   ]
  },
  {
   "cell_type": "code",
   "execution_count": 8,
   "metadata": {},
   "outputs": [
    {
     "name": "stdout",
     "output_type": "stream",
     "text": [
      "23\n",
      "23\n",
      "23\n"
     ]
    }
   ],
   "source": [
    "# give multiple variables the same data\n",
    "x=y=z =23\n",
    "print(x)\n",
    "print(y)\n",
    "print(z)"
   ]
  },
  {
   "cell_type": "markdown",
   "metadata": {},
   "source": [
    "> Input function"
   ]
  },
  {
   "cell_type": "code",
   "execution_count": 9,
   "metadata": {},
   "outputs": [
    {
     "name": "stdout",
     "output_type": "stream",
     "text": [
      "5.0\n"
     ]
    }
   ],
   "source": [
    "#changing the data type in python\n",
    "n = 5\n",
    "print(float(n))"
   ]
  },
  {
   "cell_type": "code",
   "execution_count": 10,
   "metadata": {},
   "outputs": [
    {
     "name": "stdout",
     "output_type": "stream",
     "text": [
      "(1+3j)\n"
     ]
    },
    {
     "data": {
      "text/plain": [
       "complex"
      ]
     },
     "execution_count": 10,
     "metadata": {},
     "output_type": "execute_result"
    }
   ],
   "source": [
    "#complex munber\n",
    "c=1+3j\n",
    "print(c)\n",
    "type(c)"
   ]
  },
  {
   "cell_type": "code",
   "execution_count": 11,
   "metadata": {},
   "outputs": [
    {
     "name": "stdout",
     "output_type": "stream",
     "text": [
      "5\n"
     ]
    },
    {
     "data": {
      "text/plain": [
       "float"
      ]
     },
     "execution_count": 11,
     "metadata": {},
     "output_type": "execute_result"
    }
   ],
   "source": [
    "# conversion of data type\n",
    "# float to int\n",
    "x=5.67\n",
    "print(int(x))\n",
    "type (x)"
   ]
  },
  {
   "cell_type": "code",
   "execution_count": 12,
   "metadata": {},
   "outputs": [
    {
     "name": "stdout",
     "output_type": "stream",
     "text": [
      "True\n"
     ]
    },
    {
     "data": {
      "text/plain": [
       "bool"
      ]
     },
     "execution_count": 12,
     "metadata": {},
     "output_type": "execute_result"
    }
   ],
   "source": [
    "# Boolean : True and False\n",
    "a=True\n",
    "print(a)\n",
    "type(a)"
   ]
  },
  {
   "cell_type": "code",
   "execution_count": 13,
   "metadata": {},
   "outputs": [
    {
     "name": "stdout",
     "output_type": "stream",
     "text": [
      "False\n"
     ]
    },
    {
     "data": {
      "text/plain": [
       "bool"
      ]
     },
     "execution_count": 13,
     "metadata": {},
     "output_type": "execute_result"
    }
   ],
   "source": [
    "a=4 < 1\n",
    "print(a)\n",
    "type(a)"
   ]
  },
  {
   "cell_type": "code",
   "execution_count": 14,
   "metadata": {},
   "outputs": [
    {
     "name": "stdout",
     "output_type": "stream",
     "text": [
      "HelloHelloHelloHelloHello\n"
     ]
    }
   ],
   "source": [
    "#STring\n",
    "print(\"Hello\"* 5)"
   ]
  },
  {
   "cell_type": "markdown",
   "metadata": {},
   "source": [
    "> String Slicing"
   ]
  },
  {
   "cell_type": "code",
   "execution_count": 15,
   "metadata": {},
   "outputs": [
    {
     "name": "stdout",
     "output_type": "stream",
     "text": [
      "rogr\n"
     ]
    }
   ],
   "source": [
    "str=\"Programming\"\n",
    "print(str[1:5]) # values for index 1 to 5-1 will be sliced"
   ]
  },
  {
   "cell_type": "code",
   "execution_count": 16,
   "metadata": {},
   "outputs": [
    {
     "name": "stdout",
     "output_type": "stream",
     "text": [
      "Pormi\n"
     ]
    }
   ],
   "source": [
    "# step\n",
    "print(str[0:10:2]) #every 2nd letter will be removed"
   ]
  },
  {
   "cell_type": "markdown",
   "metadata": {},
   "source": [
    "String concatenation\n"
   ]
  },
  {
   "cell_type": "code",
   "execution_count": 17,
   "metadata": {},
   "outputs": [
    {
     "name": "stdout",
     "output_type": "stream",
     "text": [
      "Machine Learning\n"
     ]
    }
   ],
   "source": [
    "w1=\"Machine\"\n",
    "w2=\" Learning\"\n",
    "print(w1+w2)"
   ]
  },
  {
   "cell_type": "markdown",
   "metadata": {},
   "source": [
    "> Types of Objects:\n",
    "\n",
    "1. Muttable -\n",
    "\n",
    "List\n",
    "\n",
    "Set\n",
    "\n",
    "Dictionary\n",
    "\n",
    "2. Immutable -\n",
    "\n",
    "int\n",
    "\n",
    "float\n",
    "\n",
    "tuple\n",
    "\n",
    "bool\n",
    "\n",
    "string\n"
   ]
  },
  {
   "cell_type": "code",
   "execution_count": 18,
   "metadata": {},
   "outputs": [
    {
     "name": "stdout",
     "output_type": "stream",
     "text": [
      "[1, 2, 3, 4, 5]\n"
     ]
    },
    {
     "data": {
      "text/plain": [
       "list"
      ]
     },
     "execution_count": 18,
     "metadata": {},
     "output_type": "execute_result"
    }
   ],
   "source": [
    "# List should be included in square brackets\n",
    "list=[1,2,3,4,5]\n",
    "print(list)\n",
    "type(list)\n"
   ]
  },
  {
   "cell_type": "code",
   "execution_count": 19,
   "metadata": {},
   "outputs": [
    {
     "name": "stdout",
     "output_type": "stream",
     "text": [
      "[2, 3, 1.3, 'English', True]\n"
     ]
    }
   ],
   "source": [
    "#lists can have multiple data types.\n",
    "list=[2,3,1.3,'English',True]\n",
    "print(list)"
   ]
  },
  {
   "cell_type": "code",
   "execution_count": 20,
   "metadata": {},
   "outputs": [
    {
     "name": "stdout",
     "output_type": "stream",
     "text": [
      "[2, 3, 1.3, 'English', True, 4]\n"
     ]
    }
   ],
   "source": [
    "#Lists are mutable or changeable\n",
    "list=[2,3,1.3,'English',True]\n",
    "list.append(4)\n",
    "print(list)"
   ]
  },
  {
   "cell_type": "code",
   "execution_count": 21,
   "metadata": {},
   "outputs": [
    {
     "name": "stdout",
     "output_type": "stream",
     "text": [
      "2\n",
      "1.3\n"
     ]
    }
   ],
   "source": [
    "#print elements of list using itheir index\n",
    "print(list[0])\n",
    "print(list[2])"
   ]
  },
  {
   "cell_type": "code",
   "execution_count": 22,
   "metadata": {},
   "outputs": [
    {
     "name": "stdout",
     "output_type": "stream",
     "text": [
      "[1, 2, 3, 43, 21, 3]\n"
     ]
    }
   ],
   "source": [
    "#Lists allow duplicate values\n",
    "l1=[1,2,3,43,21,3]\n",
    "print(l1)\n"
   ]
  },
  {
   "cell_type": "code",
   "execution_count": 23,
   "metadata": {},
   "outputs": [
    {
     "name": "stdout",
     "output_type": "stream",
     "text": [
      "6\n"
     ]
    }
   ],
   "source": [
    "print(len(l1))"
   ]
  },
  {
   "cell_type": "code",
   "execution_count": 24,
   "metadata": {},
   "outputs": [
    {
     "name": "stdout",
     "output_type": "stream",
     "text": [
      "[]\n"
     ]
    }
   ],
   "source": [
    "#initiating an empty list\n",
    "l2=[]\n",
    "print(l2)"
   ]
  },
  {
   "cell_type": "code",
   "execution_count": 25,
   "metadata": {},
   "outputs": [
    {
     "name": "stdout",
     "output_type": "stream",
     "text": [
      "[5]\n"
     ]
    }
   ],
   "source": [
    "l2.append(5)\n",
    "print(l2)"
   ]
  },
  {
   "cell_type": "code",
   "execution_count": 26,
   "metadata": {},
   "outputs": [
    {
     "name": "stdout",
     "output_type": "stream",
     "text": [
      "[2, 3, 1.3, 'English', True, 4]\n",
      "[2, 3, 1.3, True, 4]\n"
     ]
    }
   ],
   "source": [
    "#delete item in list\n",
    "l2=[2, 3, 1.3, 'English', True, 4]\n",
    "print(l2)\n",
    "del l2[3]\n",
    "print(l2)"
   ]
  },
  {
   "cell_type": "code",
   "execution_count": 27,
   "metadata": {},
   "outputs": [
    {
     "name": "stdout",
     "output_type": "stream",
     "text": [
      "[2, 3, 6, 4, 9, 2, 5, 6, 1]\n"
     ]
    }
   ],
   "source": [
    "#join two lists\n",
    "l3=[2,3,6,4]\n",
    "l4=[9,2,5,6,1]\n",
    "l5= l3 + l4\n",
    "print(l5)"
   ]
  },
  {
   "cell_type": "markdown",
   "metadata": {},
   "source": [
    "# Tuple : immutable"
   ]
  },
  {
   "cell_type": "code",
   "execution_count": 28,
   "metadata": {},
   "outputs": [
    {
     "name": "stdout",
     "output_type": "stream",
     "text": [
      "(3, 4, 5)\n"
     ]
    },
    {
     "data": {
      "text/plain": [
       "tuple"
      ]
     },
     "execution_count": 28,
     "metadata": {},
     "output_type": "execute_result"
    }
   ],
   "source": [
    "t1 = (3,4,5)\n",
    "print(t1)\n",
    "type(t1)"
   ]
  },
  {
   "cell_type": "code",
   "execution_count": 29,
   "metadata": {},
   "outputs": [
    {
     "name": "stdout",
     "output_type": "stream",
     "text": [
      "(1, 3.4, 'Hi', False, 94.5)\n"
     ]
    }
   ],
   "source": [
    "#tuple allows multiple data types\n",
    "t2=(1,3.4,'Hi',False,94.5)\n",
    "print(t2)"
   ]
  },
  {
   "cell_type": "code",
   "execution_count": 30,
   "metadata": {},
   "outputs": [
    {
     "name": "stdout",
     "output_type": "stream",
     "text": [
      "[3, 4, 2, 5]\n",
      "(3, 4, 2, 5)\n"
     ]
    }
   ],
   "source": [
    "# converting a list to tuple\n",
    "l =[3,4,2,5]\n",
    "print(l)\n",
    "\n",
    "t=tuple(l)\n",
    "print(t)"
   ]
  },
  {
   "cell_type": "code",
   "execution_count": 31,
   "metadata": {},
   "outputs": [
    {
     "name": "stdout",
     "output_type": "stream",
     "text": [
      "3\n",
      "5\n"
     ]
    }
   ],
   "source": [
    "print(t[0])\n",
    "print(t[3])"
   ]
  },
  {
   "cell_type": "code",
   "execution_count": 32,
   "metadata": {},
   "outputs": [
    {
     "ename": "AttributeError",
     "evalue": "'tuple' object has no attribute 'append'",
     "output_type": "error",
     "traceback": [
      "\u001b[1;31m---------------------------------------------------------------------------\u001b[0m",
      "\u001b[1;31mAttributeError\u001b[0m                            Traceback (most recent call last)",
      "\u001b[1;32mc:\\Users\\Priya\\Desktop\\Machine Learning\\ML and DS practice\\Module 1.ipynb Cell 40\u001b[0m in \u001b[0;36m<cell line: 1>\u001b[1;34m()\u001b[0m\n\u001b[1;32m----> <a href='vscode-notebook-cell:/c%3A/Users/Priya/Desktop/Machine%20Learning/ML%20and%20DS%20practice/Module%201.ipynb#X54sZmlsZQ%3D%3D?line=0'>1</a>\u001b[0m t\u001b[39m.\u001b[39;49mappend(\u001b[39m5\u001b[39m)\n",
      "\u001b[1;31mAttributeError\u001b[0m: 'tuple' object has no attribute 'append'"
     ]
    }
   ],
   "source": [
    "t.append(5)"
   ]
  },
  {
   "cell_type": "code",
   "execution_count": 33,
   "metadata": {},
   "outputs": [
    {
     "name": "stdout",
     "output_type": "stream",
     "text": [
      "4\n"
     ]
    }
   ],
   "source": [
    "print(len(t))"
   ]
  },
  {
   "cell_type": "markdown",
   "metadata": {},
   "source": [
    "# Set : mutable"
   ]
  },
  {
   "cell_type": "code",
   "execution_count": 34,
   "metadata": {},
   "outputs": [
    {
     "name": "stdout",
     "output_type": "stream",
     "text": [
      "{1, 3, 4, 5, 7, 8}\n"
     ]
    },
    {
     "data": {
      "text/plain": [
       "set"
      ]
     },
     "execution_count": 34,
     "metadata": {},
     "output_type": "execute_result"
    }
   ],
   "source": [
    "# set ---> Curly brackets\n",
    "s1 = {3,5,1,7,4,8}\n",
    "print(s1)\n",
    "type(s1)"
   ]
  },
  {
   "cell_type": "code",
   "execution_count": 35,
   "metadata": {},
   "outputs": [
    {
     "ename": "TypeError",
     "evalue": "'set' object is not subscriptable",
     "output_type": "error",
     "traceback": [
      "\u001b[1;31m---------------------------------------------------------------------------\u001b[0m",
      "\u001b[1;31mTypeError\u001b[0m                                 Traceback (most recent call last)",
      "\u001b[1;32mc:\\Users\\Priya\\Desktop\\Machine Learning\\ML and DS practice\\Module 1.ipynb Cell 44\u001b[0m in \u001b[0;36m<cell line: 1>\u001b[1;34m()\u001b[0m\n\u001b[1;32m----> <a href='vscode-notebook-cell:/c%3A/Users/Priya/Desktop/Machine%20Learning/ML%20and%20DS%20practice/Module%201.ipynb#X61sZmlsZQ%3D%3D?line=0'>1</a>\u001b[0m \u001b[39mprint\u001b[39m(s1[\u001b[39m0\u001b[39;49m])\n",
      "\u001b[1;31mTypeError\u001b[0m: 'set' object is not subscriptable"
     ]
    }
   ],
   "source": [
    "print(s1[0])"
   ]
  },
  {
   "cell_type": "code",
   "execution_count": 36,
   "metadata": {},
   "outputs": [
    {
     "name": "stdout",
     "output_type": "stream",
     "text": [
      "{2, 4, 5, 6}\n"
     ]
    }
   ],
   "source": [
    "#convert list to set\n",
    "l5=[4,5,2,5,6]\n",
    "\n",
    "x=set(l5)\n",
    "print(x)"
   ]
  },
  {
   "cell_type": "code",
   "execution_count": 37,
   "metadata": {},
   "outputs": [
    {
     "name": "stdout",
     "output_type": "stream",
     "text": [
      "{1, 2, 3, 4, 5, 7}\n"
     ]
    }
   ],
   "source": [
    "# set does not allow duplicate values\n",
    "s2={1,2,5,3,7,4,1,7}\n",
    "print(s2)"
   ]
  },
  {
   "cell_type": "markdown",
   "metadata": {},
   "source": [
    "# Dictionary : has key-value pair\n"
   ]
  },
  {
   "cell_type": "code",
   "execution_count": 38,
   "metadata": {},
   "outputs": [
    {
     "name": "stdout",
     "output_type": "stream",
     "text": [
      "{'name': 'David', 'age': 30, 'county': 'India'}\n"
     ]
    },
    {
     "data": {
      "text/plain": [
       "dict"
      ]
     },
     "execution_count": 38,
     "metadata": {},
     "output_type": "execute_result"
    }
   ],
   "source": [
    "d1={\"name\":\"David\",\"age\":30,\"county\": \"India\"}\n",
    "print(d1)\n",
    "type(d1)"
   ]
  },
  {
   "cell_type": "code",
   "execution_count": 39,
   "metadata": {},
   "outputs": [
    {
     "name": "stdout",
     "output_type": "stream",
     "text": [
      "David\n",
      "30\n"
     ]
    }
   ],
   "source": [
    "print(d1[\"name\"])\n",
    "print(d1[\"age\"])"
   ]
  },
  {
   "cell_type": "code",
   "execution_count": 40,
   "metadata": {},
   "outputs": [
    {
     "name": "stdout",
     "output_type": "stream",
     "text": [
      "{'name': 'David', 'age': 30, 'county': 'India'}\n"
     ]
    }
   ],
   "source": [
    "# dictionary has no duplicate values\n",
    "d3={\"name\":\"David\",\"age\":30,\"county\": \"India\",\"name\":\"David\",\"age\":30,\"county\": \"India\"}\n",
    "print(d3)"
   ]
  },
  {
   "cell_type": "markdown",
   "metadata": {},
   "source": [
    "# Operators in Python:\n",
    "1. Arithmetic\n",
    "2. Assignment\n",
    "3. Comparison\n",
    "4. Logical\n",
    "5. Identity\n",
    "6. Membership"
   ]
  },
  {
   "cell_type": "code",
   "execution_count": 41,
   "metadata": {},
   "outputs": [
    {
     "name": "stdout",
     "output_type": "stream",
     "text": [
      "63\n",
      "23\n",
      "860\n",
      "Division : 2.15\n",
      "Exponent:  87960930222080000000000000000000000000000000000000000000\n",
      "Remainder :  3\n"
     ]
    }
   ],
   "source": [
    "# Arithmetic operators\n",
    "num1=20\n",
    "num2=43\n",
    "\n",
    "#addition\n",
    "sum = num1 + num2\n",
    "print(sum)\n",
    "\n",
    "#substraction\n",
    "\n",
    "sub=num2-num1\n",
    "print(sub)\n",
    "\n",
    "#multiplication\n",
    "\n",
    "mult=num1*num2\n",
    "print(mult)\n",
    "\n",
    "#division\n",
    "\n",
    "div=num2/num1\n",
    "print(\"Division :\",div)\n",
    "\n",
    "#exponent\n",
    "\n",
    "exp =num1**num2\n",
    "print(\"Exponent: \",exp)\n",
    "\n",
    "#modulus\n",
    "\n",
    "mod =num2%num1\n",
    "print(\"Remainder : \",mod)"
   ]
  },
  {
   "cell_type": "code",
   "execution_count": 42,
   "metadata": {},
   "outputs": [
    {
     "name": "stdout",
     "output_type": "stream",
     "text": [
      "Add :  9\n",
      "Sub :  5\n",
      "mult: 35\n",
      "Div: 8.75\n",
      "Exponent: 729\n",
      "Remainder: 3\n"
     ]
    }
   ],
   "source": [
    "#Assignment Operator\n",
    "\n",
    "a=5\n",
    "a += 4 # a=a+4\n",
    "print(\"Add : \",a)\n",
    "\n",
    "b=9\n",
    "b=b-4 #b=b-4\n",
    "print(\"Sub : \",b)\n",
    "\n",
    "b=b*7\n",
    "print(\"mult:\",b)\n",
    "\n",
    "b=b/4\n",
    "print(\"Div:\",b)\n",
    "\n",
    "b=a**3\n",
    "print(\"Exponent:\",b)\n",
    "\n",
    "b=a%6\n",
    "print(\"Remainder:\",b)\n"
   ]
  },
  {
   "cell_type": "code",
   "execution_count": 43,
   "metadata": {},
   "outputs": [
    {
     "name": "stdout",
     "output_type": "stream",
     "text": [
      "False\n",
      "True\n",
      "False\n",
      "True\n",
      "True\n",
      "False\n"
     ]
    }
   ],
   "source": [
    "#Comparison Operator\n",
    "\n",
    "a = 4\n",
    "b = 7\n",
    "print(a==b) # equal to\n",
    "print(a!=b) #not equal to\n",
    "print(a>b)\n",
    "print(a<b)\n",
    "print(a<=b)\n",
    "print(a>=b)"
   ]
  },
  {
   "cell_type": "code",
   "execution_count": 44,
   "metadata": {},
   "outputs": [
    {
     "name": "stdout",
     "output_type": "stream",
     "text": [
      "False\n",
      "True\n",
      "True\n"
     ]
    }
   ],
   "source": [
    "#Logical Operator : and , or , not\n",
    "a=23\n",
    "print(a>41 and a>21)\n",
    "print( a>41 or a>21)\n",
    "print(not(a>41 and a>21))"
   ]
  },
  {
   "cell_type": "code",
   "execution_count": 45,
   "metadata": {},
   "outputs": [
    {
     "name": "stdout",
     "output_type": "stream",
     "text": [
      "False\n",
      "True\n"
     ]
    }
   ],
   "source": [
    "# Identity Operator : is , is not\n",
    "x=5\n",
    "y=2\n",
    "print (x is y)\n",
    "print(x is not y)\n"
   ]
  },
  {
   "cell_type": "code",
   "execution_count": 46,
   "metadata": {},
   "outputs": [
    {
     "name": "stdout",
     "output_type": "stream",
     "text": [
      "False\n",
      "True\n",
      "True\n",
      "False\n"
     ]
    }
   ],
   "source": [
    "#Membership Operator : not in , in\n",
    "\n",
    "a=6\n",
    "b=2\n",
    "c=[1,2,4,5,9]\n",
    "print(a in c)\n",
    "print(b in c)\n",
    "print(a not in c)\n",
    "print(b not in c)"
   ]
  },
  {
   "cell_type": "markdown",
   "metadata": {},
   "source": [
    "# If else statement :"
   ]
  },
  {
   "cell_type": "code",
   "execution_count": 47,
   "metadata": {},
   "outputs": [
    {
     "name": "stdout",
     "output_type": "stream",
     "text": [
      "a is greater num.\n"
     ]
    }
   ],
   "source": [
    "a=32\n",
    "b=11\n",
    "if(a>b):\n",
    "    print(\"a is greater num.\")\n",
    "else:\n",
    "    print(\"b is greater num.\")"
   ]
  },
  {
   "cell_type": "markdown",
   "metadata": {},
   "source": [
    "# if elif else statement"
   ]
  },
  {
   "cell_type": "code",
   "execution_count": 48,
   "metadata": {},
   "outputs": [
    {
     "name": "stdout",
     "output_type": "stream",
     "text": [
      "a is greatest.\n"
     ]
    }
   ],
   "source": [
    "a=12\n",
    "b=22\n",
    "c=4\n",
    "\n",
    "if(b>a>c):\n",
    "    print(\"a is greatest.\")\n",
    "elif(a>b>c):\n",
    "    print(\"b is gratest.\")\n",
    "else:\n",
    "    print(\"c is greatest.\")"
   ]
  },
  {
   "cell_type": "markdown",
   "metadata": {},
   "source": [
    "# Nested if statement"
   ]
  },
  {
   "cell_type": "code",
   "execution_count": 49,
   "metadata": {},
   "outputs": [
    {
     "name": "stdout",
     "output_type": "stream",
     "text": [
      "c is greatest\n"
     ]
    }
   ],
   "source": [
    "a=20\n",
    "b=30\n",
    "c=40\n",
    "if(a>b):\n",
    "    if (a>c):\n",
    "        print(\"a  is greatest\")\n",
    "    else:\n",
    "        print(\"c is greatest\") \n",
    "else:\n",
    "    if(b>c):\n",
    "       print(\"b is greatest\")\n",
    "    else:\n",
    "        print(\"c is greatest\")\n"
   ]
  },
  {
   "cell_type": "markdown",
   "metadata": {},
   "source": [
    "# For loop"
   ]
  },
  {
   "cell_type": "code",
   "execution_count": 51,
   "metadata": {},
   "outputs": [
    {
     "name": "stdout",
     "output_type": "stream",
     "text": [
      "Price of laptop is:  20000\n",
      "Price of laptop is:  60000\n",
      "Price of laptop is:  30000\n",
      "Price of laptop is:  20000\n"
     ]
    }
   ],
   "source": [
    "laptop1 = 20000\n",
    "print(\"Price of laptop is: \",laptop1)\n",
    "laptop2 = 60000\n",
    "print(\"Price of laptop is: \",laptop2)\n",
    "laptop3 = 30000\n",
    "print(\"Price of laptop is: \",laptop3)\n",
    "laptop4 = 20000\n",
    "print(\"Price of laptop is: \",laptop4)\n",
    "for i in range(4):\n",
    "    laptop_price=int(input(\"Enter the price of laptop :\"))"
   ]
  },
  {
   "cell_type": "code",
   "execution_count": 1,
   "metadata": {},
   "outputs": [
    {
     "name": "stdout",
     "output_type": "stream",
     "text": [
      "233\n",
      "42\n",
      "45\n",
      "21\n",
      "76\n"
     ]
    }
   ],
   "source": [
    "num=[233,42,45,21,76]\n",
    "for i in num:\n",
    "    print(i)"
   ]
  },
  {
   "cell_type": "markdown",
   "metadata": {},
   "source": [
    "# WHile loop\n"
   ]
  },
  {
   "cell_type": "code",
   "execution_count": 1,
   "metadata": {},
   "outputs": [
    {
     "name": "stdout",
     "output_type": "stream",
     "text": [
      "2\n",
      "4\n",
      "6\n",
      "8\n",
      "10\n",
      "12\n",
      "14\n",
      "16\n",
      "18\n"
     ]
    }
   ],
   "source": [
    "i=2\n",
    "while i<20:\n",
    "    print(i)\n",
    "    i+=2"
   ]
  },
  {
   "cell_type": "code",
   "execution_count": 2,
   "metadata": {},
   "outputs": [],
   "source": [
    "i=2\n",
    "while i>20:\n",
    "    print(i)\n",
    "    i+=2"
   ]
  },
  {
   "cell_type": "markdown",
   "metadata": {},
   "source": [
    "# Functions"
   ]
  },
  {
   "cell_type": "code",
   "execution_count": null,
   "metadata": {},
   "outputs": [],
   "source": [
    "#Factorial of a number\n",
    "num=int(input(\"ENter the number: \"))\n",
    "factorial=1\n",
    "if num==0:\n",
    "    print(\"Factorial of 0 is 1\")\n",
    "else:\n",
    "    for i in range(1,num+1): #range(1,6) ++++ include 1 and exclude 6\n",
    "        factorial=factorial+1 \n",
    "    print(\"Factorial of :\",num, \"is\",factorial)\n"
   ]
  },
  {
   "cell_type": "markdown",
   "metadata": {},
   "source": [
    "# Factorial function"
   ]
  },
  {
   "cell_type": "code",
   "execution_count": 4,
   "metadata": {},
   "outputs": [
    {
     "ename": "IndentationError",
     "evalue": "expected an indented block after function definition on line 1 (1888708496.py, line 3)",
     "output_type": "error",
     "traceback": [
      "\u001b[1;36m  Input \u001b[1;32mIn [4]\u001b[1;36m\u001b[0m\n\u001b[1;33m    factorial=1\u001b[0m\n\u001b[1;37m    ^\u001b[0m\n\u001b[1;31mIndentationError\u001b[0m\u001b[1;31m:\u001b[0m expected an indented block after function definition on line 1\n"
     ]
    }
   ],
   "source": [
    "def factorial_value(num):\n",
    "\n",
    "factorial=1\n",
    "\n",
    "if n == 0:\n",
    "    return factorial\n",
    "\n",
    "else:\n",
    "    for i in range(1,n+1): #range(1,6) ++++ include 1 and exclude 6\n",
    "        factorial=factorial+1 \n",
    "    print(\"Factorial of :\",n, \"is\",factorial)"
   ]
  },
  {
   "cell_type": "code",
   "execution_count": 3,
   "metadata": {},
   "outputs": [
    {
     "name": "stdout",
     "output_type": "stream",
     "text": [
      "None\n"
     ]
    }
   ],
   "source": [
    "print(factorial_value(5))"
   ]
  }
 ],
 "metadata": {
  "kernelspec": {
   "display_name": "Python 3.10.8 64-bit (microsoft store)",
   "language": "python",
   "name": "python3"
  },
  "language_info": {
   "codemirror_mode": {
    "name": "ipython",
    "version": 3
   },
   "file_extension": ".py",
   "mimetype": "text/x-python",
   "name": "python",
   "nbconvert_exporter": "python",
   "pygments_lexer": "ipython3",
   "version": "3.10.8"
  },
  "orig_nbformat": 4,
  "vscode": {
   "interpreter": {
    "hash": "739208e14e75503215ce327ae9d876e117da9a329d47b362d028f3781d1c0f0c"
   }
  }
 },
 "nbformat": 4,
 "nbformat_minor": 2
}
